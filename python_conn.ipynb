{
 "cells": [
  {
   "cell_type": "markdown",
   "metadata": {},
   "source": [
    "# Importing libraries"
   ]
  },
  {
   "cell_type": "code",
   "execution_count": null,
   "metadata": {},
   "outputs": [],
   "source": [
    "import cx_Oracle\n",
    "import sqlalchemy as sa\n",
    "\n",
    "\n",
    "import pandas as pd"
   ]
  },
  {
   "cell_type": "code",
   "execution_count": null,
   "metadata": {},
   "outputs": [],
   "source": [
    "query = '''\n",
    "SELECT *\n",
    "FROM YOUR TABLE\n",
    "'''"
   ]
  },
  {
   "cell_type": "code",
   "execution_count": null,
   "metadata": {},
   "outputs": [],
   "source": [
    "# Connection with cx_Oracle\n",
    "\n",
    "# Set the path to the Oracle Instant Client\n",
    "route = '/Users/ME/Desktop/instantclient_19_8' # THIS IS MY PATH ON MAC\n",
    "cx_Oracle.init_oracle_client(lib_dir=route)\n",
    "\n",
    "# Create a Data Source Name (DSN) using the connection details\n",
    "dsn_tns = cx_Oracle.makedsn('10.10.10.10', '1521', service_name='YOUR_SERVICE_NAME')\n",
    "\n",
    "# Establish a connection to the Oracle database\n",
    "conn = cx_Oracle.connect(user=r'YOUR_USER', password='YOUR_PASS', dsn=dsn_tns)\n",
    "\n",
    "# Create a cursor to execute SQL queries\n",
    "cur = conn.cursor()\n"
   ]
  },
  {
   "cell_type": "code",
   "execution_count": null,
   "metadata": {},
   "outputs": [],
   "source": [
    "# Connection with SQLAlchemy\n",
    "\n",
    "\n",
    "# Example connection details (replace with actual database credentials)\n",
    "username = 'YOUR_USERNAME'\n",
    "password = 'YOUR_PASSWORD'\n",
    "host = 'YOUR_DATABASE_HOST'\n",
    "port = 'YOUR_DATABASE_PORT'\n",
    "service_name = 'YOUR_SERVICE_NAME'\n",
    "\n",
    "# Create a SQLAlchemy engine for Oracle database\n",
    "oracle_db = sa.create_engine(f'oracle+cx_oracle://{username}:{password}@{host}:{port}/?service_name={service_name}')\n",
    "\n",
    "# Establish a connection to the Oracle database\n",
    "connection = oracle_db.connect()\n"
   ]
  },
  {
   "cell_type": "code",
   "execution_count": null,
   "metadata": {},
   "outputs": [],
   "source": [
    "# Reading Data from Oracle Database\n",
    "\n",
    "\n",
    "# Assuming 'query' contains your SQL query and 'connection' is the established database connection\n",
    "\n",
    "# Execute the SQL query and retrieve the result into a DataFrame\n",
    "df = pd.read_sql_query(query, connection)\n",
    "\n",
    "# Display the first few rows of the DataFrame\n",
    "df.head()\n"
   ]
  }
 ],
 "metadata": {
  "language_info": {
   "name": "python"
  }
 },
 "nbformat": 4,
 "nbformat_minor": 2
}
